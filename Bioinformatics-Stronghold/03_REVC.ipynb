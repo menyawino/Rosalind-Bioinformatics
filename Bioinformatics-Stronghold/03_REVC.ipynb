{
 "cells": [
  {
   "cell_type": "markdown",
   "metadata": {},
   "source": [
    "Problem: Complementing a Strand of DNA\n",
    "\n",
    "Rosalind ID: REVC\n",
    "\n",
    "Rosalind #: 003\n",
    "\n",
    "URL: http://rosalind.info/problems/revc/"
   ]
  },
  {
   "cell_type": "code",
   "execution_count": 5,
   "metadata": {},
   "outputs": [],
   "source": [
    "with open('data/rosalind_revc.txt') as f:\n",
    "    s = f.read().strip()"
   ]
  },
  {
   "cell_type": "code",
   "execution_count": 6,
   "metadata": {},
   "outputs": [],
   "source": [
    "translation_table = str.maketrans('ACGT', 'TGCA')"
   ]
  },
  {
   "cell_type": "code",
   "execution_count": 7,
   "metadata": {},
   "outputs": [],
   "source": [
    "with open('output/02_REVC.txt', 'w') as f:\n",
    "    f.write(s.translate(translation_table)[::-1])"
   ]
  }
 ],
 "metadata": {
  "kernelspec": {
   "display_name": "base",
   "language": "python",
   "name": "python3"
  },
  "language_info": {
   "codemirror_mode": {
    "name": "ipython",
    "version": 3
   },
   "file_extension": ".py",
   "mimetype": "text/x-python",
   "name": "python",
   "nbconvert_exporter": "python",
   "pygments_lexer": "ipython3",
   "version": "3.12.2"
  }
 },
 "nbformat": 4,
 "nbformat_minor": 2
}
