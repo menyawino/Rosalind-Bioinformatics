{
 "cells": [
  {
   "cell_type": "markdown",
   "metadata": {},
   "source": [
    "Problem: Mendel's First Law\n",
    "\n",
    "Rosalind ID: IPRB\n",
    "\n",
    "Rosalind #: 007\n",
    "\n",
    "URL: http://rosalind.info/problems/iprb/"
   ]
  },
  {
   "cell_type": "code",
   "execution_count": 24,
   "metadata": {},
   "outputs": [],
   "source": [
    "from scipy.special import comb"
   ]
  },
  {
   "cell_type": "code",
   "execution_count": 25,
   "metadata": {},
   "outputs": [],
   "source": [
    "with open('data/rosalind_iprb.txt', 'r') as f:\n",
    "    k, m, n = map(int, f.readline().strip().split())"
   ]
  },
  {
   "cell_type": "code",
   "execution_count": 26,
   "metadata": {},
   "outputs": [],
   "source": [
    "total = comb(k + m + n, 2)\n",
    "\n",
    "total_dom = comb(k, 2) + k * m + k * n + 0.75 * comb(m, 2) + 0.5 * m * n"
   ]
  },
  {
   "cell_type": "code",
   "execution_count": 27,
   "metadata": {},
   "outputs": [],
   "source": [
    "with open('output/07_IPRB.txt', 'w') as f:\n",
    "    f.write(str(total_dom / total))\n",
    "    f.write('\\n')"
   ]
  }
 ],
 "metadata": {
  "kernelspec": {
   "display_name": "base",
   "language": "python",
   "name": "python3"
  },
  "language_info": {
   "codemirror_mode": {
    "name": "ipython",
    "version": 3
   },
   "file_extension": ".py",
   "mimetype": "text/x-python",
   "name": "python",
   "nbconvert_exporter": "python",
   "pygments_lexer": "ipython3",
   "version": "3.12.2"
  }
 },
 "nbformat": 4,
 "nbformat_minor": 2
}
