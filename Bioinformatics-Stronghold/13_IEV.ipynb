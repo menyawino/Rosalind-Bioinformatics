{
 "cells": [
  {
   "cell_type": "markdown",
   "metadata": {},
   "source": [
    "Problem: Calculating Expected Offspring\n",
    "\n",
    "Rosalind ID: IEV\n",
    "\n",
    "Rosalind #: 013\n",
    "\n",
    "URL: http://rosalind.info/problems/iev/"
   ]
  },
  {
   "cell_type": "code",
   "execution_count": 7,
   "metadata": {},
   "outputs": [],
   "source": [
    "with open('data/rosalind_iev.txt') as f:\n",
    "    AAAA, AAAa, AAaa, AaAa, Aaaa, aaaa = map(int, f.read().split())"
   ]
  },
  {
   "cell_type": "code",
   "execution_count": 8,
   "metadata": {},
   "outputs": [],
   "source": [
    "with open('output/13_IEV.txt', 'w') as f:\n",
    "    f.write(str(2 * (AAAA + AAAa + AAaa + 0.75 * AaAa + 0.5 * Aaaa)) + '\\n')"
   ]
  }
 ],
 "metadata": {
  "kernelspec": {
   "display_name": "singlecell",
   "language": "python",
   "name": "python3"
  },
  "language_info": {
   "codemirror_mode": {
    "name": "ipython",
    "version": 3
   },
   "file_extension": ".py",
   "mimetype": "text/x-python",
   "name": "python",
   "nbconvert_exporter": "python",
   "pygments_lexer": "ipython3",
   "version": "3.12.4"
  }
 },
 "nbformat": 4,
 "nbformat_minor": 2
}
