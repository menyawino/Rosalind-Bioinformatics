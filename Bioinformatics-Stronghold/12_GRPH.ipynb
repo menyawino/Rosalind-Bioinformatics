{
 "cells": [
  {
   "cell_type": "markdown",
   "metadata": {},
   "source": [
    "Problem: Overlap Graphs\n",
    "\n",
    "Rosalind ID: GRPH\n",
    "\n",
    "Rosalind #: 012\n",
    "\n",
    "URL: http://rosalind.info/problems/grph/"
   ]
  },
  {
   "cell_type": "code",
   "execution_count": 25,
   "metadata": {},
   "outputs": [],
   "source": [
    "from my_scripts.FASTA import ReadFASTA"
   ]
  },
  {
   "cell_type": "code",
   "execution_count": 26,
   "metadata": {},
   "outputs": [],
   "source": [
    "dna_list = ReadFASTA('data/rosalind_grph.txt')"
   ]
  },
  {
   "cell_type": "code",
   "execution_count": 27,
   "metadata": {},
   "outputs": [],
   "source": [
    "def overlap_graph(dna_list):\n",
    "    adj_list = []\n",
    "    for dna1 in dna_list:\n",
    "        for dna2 in dna_list:\n",
    "            if dna1[1][-3:] == dna2[1][:3] and dna1[0] != dna2[0]:\n",
    "                adj_list.append((dna1[0], dna2[0]))\n",
    "    return adj_list"
   ]
  },
  {
   "cell_type": "code",
   "execution_count": 28,
   "metadata": {},
   "outputs": [],
   "source": [
    "with open('output/12_GRPH.txt', 'w') as output_data:\n",
    "    for edge in overlap_graph(dna_list):\n",
    "        output_data.write(edge[0] + ' ' + edge[1] + '\\n')"
   ]
  }
 ],
 "metadata": {
  "kernelspec": {
   "display_name": "base",
   "language": "python",
   "name": "python3"
  },
  "language_info": {
   "codemirror_mode": {
    "name": "ipython",
    "version": 3
   },
   "file_extension": ".py",
   "mimetype": "text/x-python",
   "name": "python",
   "nbconvert_exporter": "python",
   "pygments_lexer": "ipython3",
   "version": "3.12.4"
  }
 },
 "nbformat": 4,
 "nbformat_minor": 2
}
