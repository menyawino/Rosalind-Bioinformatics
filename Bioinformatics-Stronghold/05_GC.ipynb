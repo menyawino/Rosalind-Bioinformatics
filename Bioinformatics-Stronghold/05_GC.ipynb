{
 "cells": [
  {
   "cell_type": "markdown",
   "metadata": {},
   "source": [
    "Problem: Computing GC Content\n",
    "\n",
    "Rosalind ID: GC\n",
    "\n",
    "Rosalind #: 005\n",
    "\n",
    "URL: http://rosalind.info/problems/gc/"
   ]
  },
  {
   "cell_type": "code",
   "execution_count": 28,
   "metadata": {},
   "outputs": [],
   "source": [
    "from my_scripts.FASTA import ReadFASTA"
   ]
  },
  {
   "cell_type": "code",
   "execution_count": 31,
   "metadata": {},
   "outputs": [],
   "source": [
    "dna_list = ReadFASTA('data/rosalind_gc.txt')\n",
    "\n",
    "highest_gc = -1\n",
    "highest_gc_id = ''\n",
    "\n",
    "for index, seq in enumerate(dna_list):\n",
    "    gc = (seq[1].count('G') + seq[1].count('C')) / len(seq[1]) * 100\n",
    "    if gc > highest_gc:\n",
    "        highest_gc = gc\n",
    "        highest_gc_id = dna_list[index][0]\n"
   ]
  },
  {
   "cell_type": "code",
   "execution_count": 32,
   "metadata": {},
   "outputs": [],
   "source": [
    "with open('output/05_GC.txt', 'w') as output_data:\n",
    "    output_data.write(highest_gc_id + '\\n')\n",
    "    output_data.write(str(highest_gc) + '\\n')"
   ]
  }
 ],
 "metadata": {
  "kernelspec": {
   "display_name": "base",
   "language": "python",
   "name": "python3"
  },
  "language_info": {
   "codemirror_mode": {
    "name": "ipython",
    "version": 3
   },
   "file_extension": ".py",
   "mimetype": "text/x-python",
   "name": "python",
   "nbconvert_exporter": "python",
   "pygments_lexer": "ipython3",
   "version": "3.12.2"
  }
 },
 "nbformat": 4,
 "nbformat_minor": 2
}
