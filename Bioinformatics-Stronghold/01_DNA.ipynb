{
 "cells": [
  {
   "cell_type": "markdown",
   "metadata": {},
   "source": [
    "Problem: Counting DNA Nucleotides\n",
    "\n",
    "Rosalind ID: DNA\n",
    "\n",
    "Rosalind #: 001\n",
    "\n",
    "URL: http://rosalind.info/problems/dna/"
   ]
  },
  {
   "cell_type": "code",
   "execution_count": 1,
   "metadata": {},
   "outputs": [],
   "source": [
    "with open('data/rosalind_dna.txt', 'r') as f:\n",
    "    s = f.read().strip()"
   ]
  },
  {
   "cell_type": "code",
   "execution_count": 2,
   "metadata": {},
   "outputs": [],
   "source": [
    "nuc_count = []\n",
    "for nucleotide in ['A', 'C', 'G', 'T']:\n",
    "\tnuc_count.append(str(s.count(nucleotide)))"
   ]
  },
  {
   "cell_type": "code",
   "execution_count": 3,
   "metadata": {},
   "outputs": [],
   "source": [
    "with open('output/01_DNA.txt', 'w') as output_data:\n",
    "\toutput_data.write(' '.join(nuc_count))"
   ]
  }
 ],
 "metadata": {
  "kernelspec": {
   "display_name": "base",
   "language": "python",
   "name": "python3"
  },
  "language_info": {
   "codemirror_mode": {
    "name": "ipython",
    "version": 3
   },
   "file_extension": ".py",
   "mimetype": "text/x-python",
   "name": "python",
   "nbconvert_exporter": "python",
   "pygments_lexer": "ipython3",
   "version": "3.12.2"
  }
 },
 "nbformat": 4,
 "nbformat_minor": 2
}
