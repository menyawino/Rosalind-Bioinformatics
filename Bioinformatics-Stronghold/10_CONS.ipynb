{
 "cells": [
  {
   "cell_type": "markdown",
   "metadata": {},
   "source": [
    "Problem: Consensus and Profile\n",
    "\n",
    "Rosalind ID: SUBS\n",
    "\n",
    "Rosalind #: 009\n",
    "\n",
    "URL: http://rosalind.info/problems/subs/"
   ]
  },
  {
   "cell_type": "code",
   "execution_count": 22,
   "metadata": {},
   "outputs": [],
   "source": [
    "import numpy as np\n",
    "from my_scripts.FASTA import ReadFASTA"
   ]
  },
  {
   "cell_type": "code",
   "execution_count": 23,
   "metadata": {},
   "outputs": [],
   "source": [
    "dna_list = ReadFASTA('data/rosalind_cons.txt')"
   ]
  },
  {
   "cell_type": "code",
   "execution_count": 24,
   "metadata": {},
   "outputs": [],
   "source": [
    "M = np.zeros((4,len(dna_list[0][1])), dtype = int)\n",
    "snp_dict = {'A':0, 'C':1, 'G':2, 'T':3}\n",
    "for dna in dna_list:\n",
    "    for index, snp in enumerate(dna[1]):\n",
    "        M[snp_dict[snp]][index] += 1\n"
   ]
  },
  {
   "cell_type": "code",
   "execution_count": 25,
   "metadata": {},
   "outputs": [],
   "source": [
    "consensus = ''\n",
    "to_snp = {0:'A', 1:'C', 2:'G', 3:'T'}\n",
    "for i in range(0,len(dna_list[0][1])):\n",
    "    maxval = [-1,-1]\n",
    "    for j in range(0,4):\n",
    "        if maxval[1] < M[j][i]:\n",
    "            maxval = [j, M[j][i]]\n",
    "    consensus += to_snp[maxval[0]]"
   ]
  },
  {
   "cell_type": "code",
   "execution_count": 26,
   "metadata": {},
   "outputs": [],
   "source": [
    "consensus = [consensus, 'A:', 'C:', 'G:', 'T:']\n",
    "for index, col in enumerate(M):\n",
    "    for val in col:\n",
    "        consensus[index+1] += ' '+str(val)"
   ]
  },
  {
   "cell_type": "code",
   "execution_count": 27,
   "metadata": {},
   "outputs": [],
   "source": [
    "with open('output/10_CONS.txt', 'w') as output_data: \n",
    "    output_data.write('\\n'.join(consensus))"
   ]
  }
 ],
 "metadata": {
  "kernelspec": {
   "display_name": "base",
   "language": "python",
   "name": "python3"
  },
  "language_info": {
   "codemirror_mode": {
    "name": "ipython",
    "version": 3
   },
   "file_extension": ".py",
   "mimetype": "text/x-python",
   "name": "python",
   "nbconvert_exporter": "python",
   "pygments_lexer": "ipython3",
   "version": "3.12.2"
  }
 },
 "nbformat": 4,
 "nbformat_minor": 2
}
