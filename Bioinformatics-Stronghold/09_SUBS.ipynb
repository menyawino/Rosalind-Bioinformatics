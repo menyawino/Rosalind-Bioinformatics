{
 "cells": [
  {
   "cell_type": "markdown",
   "metadata": {},
   "source": [
    "Problem: Finding a Motif in DNA\n",
    "\n",
    "Rosalind ID: SUBS\n",
    "\n",
    "Rosalind #: 009\n",
    "\n",
    "URL: http://rosalind.info/problems/subs/"
   ]
  },
  {
   "cell_type": "code",
   "execution_count": 3,
   "metadata": {},
   "outputs": [],
   "source": [
    "with open('data/rosalind_subs.txt') as input_data:\n",
    "    s, t = input_data.read().strip().split('\\n')"
   ]
  },
  {
   "cell_type": "code",
   "execution_count": 4,
   "metadata": {},
   "outputs": [],
   "source": [
    "def find_motif(s, t):\n",
    "    motif = []\n",
    "    for i in range(len(s)):\n",
    "        if s[i:i+len(t)] == t:\n",
    "            motif.append(i+1)\n",
    "    return motif\n",
    "\n",
    "with open('output/09_SUBS.txt', 'w') as output_data:\n",
    "    output_data.write(' '.join(map(str, find_motif(s, t))))"
   ]
  }
 ],
 "metadata": {
  "kernelspec": {
   "display_name": "base",
   "language": "python",
   "name": "python3"
  },
  "language_info": {
   "codemirror_mode": {
    "name": "ipython",
    "version": 3
   },
   "file_extension": ".py",
   "mimetype": "text/x-python",
   "name": "python",
   "nbconvert_exporter": "python",
   "pygments_lexer": "ipython3",
   "version": "3.1.-1"
  }
 },
 "nbformat": 4,
 "nbformat_minor": 2
}
