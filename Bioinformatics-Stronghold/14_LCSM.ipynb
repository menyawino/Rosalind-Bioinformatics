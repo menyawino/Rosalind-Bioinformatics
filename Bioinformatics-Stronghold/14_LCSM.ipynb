{
 "cells": [
  {
   "cell_type": "markdown",
   "metadata": {},
   "source": [
    "Problem: Finding a Shared Motif\n",
    "\n",
    "Rosalind ID: LCSM\n",
    "\n",
    "Rosalind #: 014\n",
    "\n",
    "URL: http://rosalind.info/problems/lcsm/"
   ]
  },
  {
   "cell_type": "code",
   "execution_count": 49,
   "metadata": {},
   "outputs": [],
   "source": [
    "from my_scripts.FASTA import ReadFASTA"
   ]
  },
  {
   "cell_type": "code",
   "execution_count": 50,
   "metadata": {},
   "outputs": [],
   "source": [
    "dna_list = ReadFASTA('data/rosalind_lcsm.txt')\n",
    "strings = []\n",
    "for dna in dna_list:\n",
    "    strings.append(dna[1])"
   ]
  },
  {
   "cell_type": "code",
   "execution_count": 51,
   "metadata": {},
   "outputs": [],
   "source": [
    "def Longest_sub(dna_list):\n",
    "    '''A function to get the longest overlapping substring in a DNA list'''\n",
    "    max_sub = ''\n",
    "    for start in range(len(dna_list[0])):\n",
    "        for end in range(len(dna_list[0]), start, -1):\n",
    "            if Check_sub(dna_list[0][start:end], dna_list):\n",
    "                if len(max_sub) < len(dna_list[0][start:end]):\n",
    "                    max_sub = dna_list[0][start:end]\n",
    "    return max_sub\n",
    "\n",
    "def Check_sub(substring, dna_list):\n",
    "    '''A function to check the presence of a substring in a DNA list'''\n",
    "    for string in dna_list:\n",
    "        if (len(substring) > len(string)) or (substring not in string):\n",
    "            return False\n",
    "    return True\n",
    "\n",
    "with open('output/14_LCSM.txt', 'w') as f:\n",
    "    f.write(Longest_sub(strings))\n"
   ]
  }
 ],
 "metadata": {
  "kernelspec": {
   "display_name": "singlecell",
   "language": "python",
   "name": "python3"
  },
  "language_info": {
   "codemirror_mode": {
    "name": "ipython",
    "version": 3
   },
   "file_extension": ".py",
   "mimetype": "text/x-python",
   "name": "python",
   "nbconvert_exporter": "python",
   "pygments_lexer": "ipython3",
   "version": "3.12.4"
  }
 },
 "nbformat": 4,
 "nbformat_minor": 2
}
